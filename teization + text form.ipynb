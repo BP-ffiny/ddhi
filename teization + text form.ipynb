{
 "cells": [
  {
   "cell_type": "code",
   "execution_count": null,
   "metadata": {},
   "outputs": [],
   "source": [
    "!pip install grobid_client_python"
   ]
  },
  {
   "cell_type": "code",
   "execution_count": null,
   "metadata": {},
   "outputs": [],
   "source": [
    "from grobid_client.grobid_client import GrobidClient\n",
    "\n",
    "client = GrobidClient(config_path=\"./config.json\")"
   ]
  },
  {
   "cell_type": "code",
   "execution_count": 7,
   "metadata": {},
   "outputs": [],
   "source": [
    "client.process(\"processFulltextDocument\", \n",
    "     \"path to input\", \n",
    " output=\"path to output\", \n",
    " consolidate_citations=True, \n",
    " segment_sentences=True, \n",
    " force=True)"
   ]
  },
  {
   "cell_type": "markdown",
   "metadata": {},
   "source": [
    "a try at smaller number of files"
   ]
  },
  {
   "cell_type": "code",
   "execution_count": null,
   "metadata": {},
   "outputs": [],
   "source": [
    "import os\n",
    "\n",
    "service_name = \"processFulltextDocument\"\n",
    "proba = \"path input\"\n",
    "#data = \"C:/Users/pothb/OneDrive/Dokumentumok/school 2024/ideal tavern stories/data/jstor downloads\"\n",
    "\n",
    "for name in os.listdir(proba):\n",
    "    # Open file\n",
    "    with open(os.path.join(proba, name)) as f:\n",
    "        print(f)\n",
    "\n",
    "        rsp = client.process_pdf(service_name, f.name, \n",
    "                         generateIDs=False, \n",
    "                         consolidate_header=True, \n",
    "                         consolidate_citations=True, \n",
    "                         include_raw_citations=False, \n",
    "                         include_raw_affiliations=True, \n",
    "                         tei_coordinates=True, \n",
    "                         segment_sentences=True)\n",
    "\n",
    "        newf = open(name + \"new.tei\", 'x')\n",
    "        newf.write(str(rsp))\n",
    "        newf.close()"
   ]
  },
  {
   "cell_type": "code",
   "execution_count": null,
   "metadata": {},
   "outputs": [],
   "source": [
    "rsp"
   ]
  },
  {
   "cell_type": "markdown",
   "metadata": {},
   "source": [
    "below is final protocol for grobid incorporation"
   ]
  },
  {
   "cell_type": "code",
   "execution_count": null,
   "metadata": {},
   "outputs": [],
   "source": [
    "import os\n",
    "\n",
    "# Specify the service and directory\n",
    "service_name = \"processFulltextDocument\"\n",
    "input_dir = \"path to input dir\"\n",
    "output_dir = \"path to output dir\"\n",
    "\n",
    "# Ensure the output directory exists\n",
    "os.makedirs(output_dir, exist_ok=True)\n",
    "\n",
    "# Process each file in the input directory\n",
    "for name in os.listdir(input_dir):\n",
    "    input_path = os.path.join(input_dir, name)\n",
    "    \n",
    "    # Open the file and process it\n",
    "    with open(input_path, 'rb') as f:  # Use 'rb' for reading PDFs\n",
    "        print(f\"Processing file: {name}\")\n",
    "\n",
    "        # Call the service to process the PDF\n",
    "        rsp = client.process_pdf(\n",
    "            service_name, f.name, \n",
    "            generateIDs=False, \n",
    "            consolidate_header=True, \n",
    "            consolidate_citations=True, \n",
    "            include_raw_citations=False, \n",
    "            include_raw_affiliations=True, \n",
    "            tei_coordinates=False, \n",
    "            segment_sentences=True\n",
    "        )\n",
    "        print(f\"Response (rsp): {rsp}\")\n",
    "        print(len(rsp))\n",
    "        # Write the TEI content directly to a new file\n",
    "        output_path = os.path.join(output_dir, f\"{os.path.splitext(name)[0]}_new.tei\")\n",
    "        with open(output_path, 'w', encoding='utf-8') as newf:\n",
    "            newf.write(rsp[2])  # rsp contains the TEI content directly\n",
    "\n",
    "        print(f\"TEI content written to: {output_path}\")"
   ]
  },
  {
   "cell_type": "markdown",
   "metadata": {},
   "source": [
    "2689,"
   ]
  },
  {
   "cell_type": "code",
   "execution_count": null,
   "metadata": {},
   "outputs": [],
   "source": [
    "pip install pdf2txt"
   ]
  },
  {
   "cell_type": "code",
   "execution_count": null,
   "metadata": {},
   "outputs": [],
   "source": [
    "pip install pdftotext"
   ]
  },
  {
   "cell_type": "markdown",
   "metadata": {},
   "source": [
    "USE THIS FOR PDF TO TXT"
   ]
  },
  {
   "cell_type": "code",
   "execution_count": null,
   "metadata": {},
   "outputs": [],
   "source": [
    "import pdf2txt\n",
    "import pdftotext"
   ]
  },
  {
   "cell_type": "code",
   "execution_count": null,
   "metadata": {},
   "outputs": [],
   "source": [
    "for file in folder:\n",
    "    with open(file, \"rb\") as f:\n",
    "        pdf = pdf2txt.PDF(f)"
   ]
  },
  {
   "cell_type": "code",
   "execution_count": null,
   "metadata": {},
   "outputs": [],
   "source": [
    "from pdfminer.high_level import extract_text\n",
    "\n",
    "def extract_pdf_to_text(pdf_path, output_path):\n",
    "    \"\"\"\n",
    "    Extracts text from a PDF file and saves it to a text file.\n",
    "    \n",
    "    Args:\n",
    "        pdf_path (str): Path to the input PDF file.\n",
    "        output_path (str): Path to save the extracted text.\n",
    "    \"\"\"\n",
    "    try:\n",
    "        # Extract text from the PDF\n",
    "        text = extract_text(pdf_path)\n",
    "        \n",
    "        # Save the text to a file\n",
    "        with open(output_path, \"w\", encoding=\"utf-8\") as text_file:\n",
    "            text_file.write(text)\n",
    "        \n",
    "        print(f\"Text successfully extracted to {output_path}\")\n",
    "    except Exception as e:\n",
    "        print(f\"Error extracting text from {pdf_path}: {e}\")\n",
    "\n",
    "# Example usage\n",
    "pdf_file = \"your path to pdf\"\n",
    "output_file = \"your path to output\"\n",
    "extract_pdf_to_text(pdf_file, output_file)"
   ]
  },
  {
   "cell_type": "markdown",
   "metadata": {},
   "source": [
    "piereling"
   ]
  },
  {
   "cell_type": "code",
   "execution_count": null,
   "metadata": {},
   "outputs": [],
   "source": [
    "pip install piereling\n"
   ]
  },
  {
   "cell_type": "code",
   "execution_count": null,
   "metadata": {},
   "outputs": [],
   "source": [
    "import subprocess\n",
    "\n",
    "# Function to convert TEI to Folia\n",
    "def convert_tei_to_folia(input_file, output_file):\n",
    "    try:\n",
    "        # Construct the command to run via subprocess\n",
    "        piereling_path = \"c:/users/pothb/appdata/local/packages/pythonsoftwarefoundation.python.3.10_qbz5n2kfra8p0/localcache/local-packages/python310/site-packages\"\n",
    "        command = [piereling_path, \"convert\", input_file, \"-o\", output_file]\n",
    "        \n",
    "        # Run the command\n",
    "        subprocess.run(command, check=True)\n",
    "        print(f\"Conversion completed! Output saved to {output_file}\")\n",
    "    except subprocess.CalledProcessError as e:\n",
    "        print(f\"Error during conversion: {e}\")\n",
    "\n",
    "# Example usage\n",
    "input_file = \"path\"  # Path to your TEI file\n",
    "output_file = \"path\"  # Path where you want to save the converted Folia file\n",
    "\n",
    "convert_tei_to_folia(input_file, output_file)"
   ]
  }
 ],
 "metadata": {
  "kernelspec": {
   "display_name": "Python 3",
   "language": "python",
   "name": "python3"
  },
  "language_info": {
   "codemirror_mode": {
    "name": "ipython",
    "version": 3
   },
   "file_extension": ".py",
   "mimetype": "text/x-python",
   "name": "python",
   "nbconvert_exporter": "python",
   "pygments_lexer": "ipython3",
   "version": "3.10.11"
  }
 },
 "nbformat": 4,
 "nbformat_minor": 2
}
