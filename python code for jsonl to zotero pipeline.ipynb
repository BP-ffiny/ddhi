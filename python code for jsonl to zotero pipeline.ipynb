{
 "cells": [
  {
   "cell_type": "code",
   "execution_count": null,
   "metadata": {},
   "outputs": [
    {
     "name": "stdout",
     "output_type": "stream",
     "text": [
      "Converted C:/Users/pothb/OneDrive/Dokumentumok/school 2024/ideal tavern stories/full-data-jstor.jsonl to C:/Users/pothb/OneDrive/Dokumentumok/school 2024/ideal tavern stories\\full-data-jstor.json\n"
     ]
    }
   ],
   "source": [
    "import json         # jsonl to json\n",
    "import os\n",
    "\n",
    "def convert_jsonl_to_json(input_jsonl_file, output_json_folder):\n",
    "    # Ensure the output folder exists\n",
    "    os.makedirs(output_json_folder, exist_ok=True)\n",
    "    \n",
    "    # Determine the output JSON filename\n",
    "    base_name = os.path.splitext(os.path.basename(input_jsonl_file))[0]\n",
    "    output_json_file = os.path.join(output_json_folder, base_name + '.json')\n",
    "    \n",
    "    # Read the JSONL file and aggregate the data\n",
    "    data = []\n",
    "    with open(input_jsonl_file, 'r') as jsonl_file:\n",
    "        for line_number, line in enumerate(jsonl_file, start=1):\n",
    "            line = line.strip()\n",
    "            if not line:  # Skip empty lines\n",
    "                continue\n",
    "            try:\n",
    "                data.append(json.loads(line))\n",
    "            except json.JSONDecodeError as e:\n",
    "                print(f\"Error decoding JSON on line {line_number}: {e}\")\n",
    "                continue\n",
    "    \n",
    "    # Write to the JSON file\n",
    "    with open(output_json_file, 'w') as json_file:\n",
    "        json.dump(data, json_file, indent=4)\n",
    "    \n",
    "    print(f\"Converted {input_jsonl_file} to {output_json_file}\")\n",
    "\n",
    "# Example usage\n",
    "\n",
    "input_jsonl_file = \"C:/Users/pothb/OneDrive/Dokumentumok/school 2024/ideal tavern stories/full-data-jstor.jsonl\"  # Change this to your actual input file path\n",
    "output_json_folder = \"C:/Users/pothb/OneDrive/Dokumentumok/school 2024/ideal tavern stories\"  # Change this to your desired output folder path\n",
    "\n",
    "convert_jsonl_to_json(input_jsonl_file, output_json_folder)"
   ]
  },
  {
   "cell_type": "code",
   "execution_count": null,
   "metadata": {},
   "outputs": [],
   "source": []
  },
  {
   "cell_type": "markdown",
   "metadata": {},
   "source": [
    "\"C:\\Users\\pothb\\OneDrive\\Dokumentumok\\school 2024\\ideal tavern stories\\full-data-jstor.json\""
   ]
  },
  {
   "cell_type": "code",
   "execution_count": null,
   "metadata": {},
   "outputs": [],
   "source": []
  },
  {
   "cell_type": "code",
   "execution_count": null,
   "metadata": {},
   "outputs": [],
   "source": []
  },
  {
   "cell_type": "code",
   "execution_count": null,
   "metadata": {},
   "outputs": [
    {
     "ename": "ModuleNotFoundError",
     "evalue": "No module named 'datetime.strptime'; 'datetime' is not a package",
     "output_type": "error",
     "traceback": [
      "\u001b[1;31m---------------------------------------------------------------------------\u001b[0m",
      "\u001b[1;31mModuleNotFoundError\u001b[0m                       Traceback (most recent call last)",
      "Cell \u001b[1;32mIn[15], line 2\u001b[0m\n\u001b[0;32m      1\u001b[0m \u001b[38;5;28;01mimport\u001b[39;00m \u001b[38;5;21;01mdatetime\u001b[39;00m\n\u001b[1;32m----> 2\u001b[0m \u001b[38;5;28;01mimport\u001b[39;00m \u001b[38;5;21;01mdatetime\u001b[39;00m\u001b[38;5;21;01m.\u001b[39;00m\u001b[38;5;21;01mstrptime\u001b[39;00m\n",
      "\u001b[1;31mModuleNotFoundError\u001b[0m: No module named 'datetime.strptime'; 'datetime' is not a package"
     ]
    }
   ],
   "source": [
    "import datetime\n",
    "import datetime"
   ]
  },
  {
   "cell_type": "code",
   "execution_count": null,
   "metadata": {},
   "outputs": [
    {
     "name": "stdout",
     "output_type": "stream",
     "text": [
      "File successfully converted to C:/Users/pothb/OneDrive/Dokumentumok/school 2024/ideal tavern stories/jstor transfers.txt\n"
     ]
    }
   ],
   "source": [
    "import json            #json to csl-json\n",
    "import datetime\n",
    "def convert_to_csljson(input_file, output_file):\n",
    "    # Step 1: Load the JSON file\n",
    "    with open(input_file, 'r', encoding='utf-8') as f:\n",
    "        data = json.load(f)\n",
    "    \n",
    "    # Step 2: Check if the JSON data fits the CSL-JSON structure\n",
    "    # Assuming the JSON file is a list of citation items\n",
    "    csl_data = []\n",
    "    for item in data:\n",
    "        # Ensure that each item has the required CSL fields\n",
    "        # Required fields: 'id', 'type', 'title'\n",
    "        authors = []\n",
    "        if 'creator' in item:\n",
    "            # Assuming authors are provided as a list of full names in the input JSON\n",
    "            for author in item['creator']:\n",
    "                if isinstance(author, str):\n",
    "                    # Split the full name into \"given\" and \"family\" parts\n",
    "                    name_parts = author.split()\n",
    "                    family_name = name_parts[-1]\n",
    "                    given_name = \" \".join(name_parts[:-1])\n",
    "                    authors.append({'family': family_name, 'given': given_name})\n",
    "                elif isinstance(author, dict):\n",
    "                    # If the input JSON has a structured format with 'given' and 'family'\n",
    "                    authors.append({\n",
    "                        'family': author.get('family', ''),\n",
    "                        'given': author.get('given', '')})\n",
    "                    \n",
    "        issued_date = {'date-parts': [[2024]]}  # Default date if none provided\n",
    "        if 'datePublished' in item:\n",
    "            try:\n",
    "                # Try parsing if the date is in \"YYYY-MM-DD\" or \"YYYY-MM\" or \"YYYY\" format\n",
    "                date_str = item['datePublished']\n",
    "                parsed_date = datetime.datetime.strptime(date_str, \"%Y-%m-%d\")\n",
    "                issued_date = {'date-parts': [[parsed_date.year, parsed_date.month, parsed_date.day]]}\n",
    "            except ValueError:\n",
    "                try:\n",
    "                    parsed_date = datetime.datetime.strptime(date_str, \"%Y-%m\")\n",
    "                    issued_date = {'date-parts': [[parsed_date.year, parsed_date.month]]}\n",
    "                except ValueError:\n",
    "                    try:\n",
    "                        parsed_date = datetime.datetime.strptime(date_str, \"%Y\")\n",
    "                        issued_date = {'date-parts': [[parsed_date.year]]}\n",
    "                    except ValueError:\n",
    "                        print(f\"Date format in '{date_str}' not recognized, using default year.\")         \n",
    "        csl_item = {\n",
    "            'id': item.get('id'),\n",
    "            'type': item.get('docType', 'article-journal'),  # Default type if not present\n",
    "            'title': item.get('title', 'Untitled'),\n",
    "            'author': authors,\n",
    "            'issued': issued_date,  # Default to current year\n",
    "            'genre': item.get('tdmCategory'),\n",
    "            'series': item.get('isPartOf'),\n",
    "            'language': item.get('language')\n",
    "        }\n",
    "        \n",
    "        # Add optional fields if present in the original JSON\n",
    "         \n",
    "        \n",
    "        # Append to the CSL data list\n",
    "        csl_data.append(csl_item)\n",
    "    \n",
    "    # Step 3: Save the data to a new file with .csljson extension\n",
    "    with open(output_file, 'w', encoding='utf-8') as f:\n",
    "        json.dump(csl_data, f, ensure_ascii=False, indent=4)\n",
    "\n",
    "    print(f\"File successfully converted to {output_file}\")\n",
    "\n",
    "# Example usage:\n",
    "# Convert 'input.json' to 'output.csljson'\n",
    "convert_to_csljson(\"C:/Users/pothb/OneDrive/Dokumentumok/school 2024/ideal tavern stories/full-data-jstor.json\", \"C:/Users/pothb/OneDrive/Dokumentumok/school 2024/ideal tavern stories/jstor transfers.txt\")"
   ]
  }
 ],
 "metadata": {
  "kernelspec": {
   "display_name": "Python 3",
   "language": "python",
   "name": "python3"
  },
  "language_info": {
   "codemirror_mode": {
    "name": "ipython",
    "version": 3
   },
   "file_extension": ".py",
   "mimetype": "text/x-python",
   "name": "python",
   "nbconvert_exporter": "python",
   "pygments_lexer": "ipython3",
   "version": "3.10.11"
  }
 },
 "nbformat": 4,
 "nbformat_minor": 2
}
